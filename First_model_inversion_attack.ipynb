{
 "cells": [
  {
   "cell_type": "code",
   "execution_count": 7,
   "metadata": {},
   "outputs": [],
   "source": [
    "import torch\n",
    "from torch import nn\n",
    "from torch import optim\n",
    "from torchvision.datasets import MNIST\n",
    "from torch.utils.data import TensorDataset, Dataset, DataLoader\n",
    "\n",
    "from tqdm.notebook import tqdm\n",
    "import numpy as np\n",
    "from sklearn.metrics import accuracy_score\n",
    "\n",
    "from aijack.defense import VIB, KL_between_normals, mib_loss\n",
    "import torchvision\n",
    "from torchvision import transforms\n",
    "import torch.nn.functional as F"
   ]
  },
  {
   "cell_type": "code",
   "execution_count": 2,
   "metadata": {},
   "outputs": [],
   "source": [
    "dim_z = 256\n",
    "beta = 1e-3\n",
    "batch_size = 32\n",
    "samples_amount = 15\n"
   ]
  },
  {
   "cell_type": "code",
   "execution_count": 3,
   "metadata": {},
   "outputs": [
    {
     "name": "stderr",
     "output_type": "stream",
     "text": [
      "/home/codespace/.python/current/lib/python3.10/site-packages/torchvision/datasets/mnist.py:75: UserWarning: train_data has been renamed data\n",
      "  warnings.warn(\"train_data has been renamed data\")\n",
      "/home/codespace/.python/current/lib/python3.10/site-packages/torchvision/datasets/mnist.py:65: UserWarning: train_labels has been renamed targets\n",
      "  warnings.warn(\"train_labels has been renamed targets\")\n",
      "/home/codespace/.python/current/lib/python3.10/site-packages/torchvision/datasets/mnist.py:80: UserWarning: test_data has been renamed data\n",
      "  warnings.warn(\"test_data has been renamed data\")\n",
      "/home/codespace/.python/current/lib/python3.10/site-packages/torchvision/datasets/mnist.py:70: UserWarning: test_labels has been renamed targets\n",
      "  warnings.warn(\"test_labels has been renamed targets\")\n"
     ]
    }
   ],
   "source": [
    "train_data = MNIST(\"MNIST/.\", download=True, train=True)\n",
    "train_dataset = TensorDataset(\n",
    "    train_data.train_data.view(-1, 28 * 28).float() / 255, train_data.train_labels\n",
    ")\n",
    "train_loader = DataLoader(train_dataset, batch_size=batch_size)\n",
    "\n",
    "test_data = MNIST(\"MNIST/.\", download=True, train=False)\n",
    "test_dataset = TensorDataset(\n",
    "    test_data.test_data.view(-1, 28 * 28).float() / 255, test_data.test_labels\n",
    ")\n",
    "test_loader = DataLoader(test_dataset, batch_size=batch_size)"
   ]
  },
  {
   "cell_type": "code",
   "execution_count": 24,
   "metadata": {},
   "outputs": [
    {
     "name": "stdout",
     "output_type": "stream",
     "text": [
      "epoch 0: loss is 0.050002097441752755\n",
      "epoch 1: loss is 0.047841641070445376\n",
      "epoch 2: loss is 0.0473508588095506\n",
      "epoch 3: loss is 0.047073747285207114\n",
      "epoch 4: loss is 0.04688881996075312\n",
      "epoch 5: loss is 0.04673281203111013\n",
      "epoch 6: loss is 0.046616472671429314\n",
      "epoch 7: loss is 0.046513241614898046\n",
      "epoch 8: loss is 0.04644602346817652\n",
      "epoch 9: loss is 0.04638316799203555\n",
      "epoch 10: loss is 0.04633481586376826\n",
      "epoch 11: loss is 0.04628656626145045\n",
      "epoch 12: loss is 0.046262020508448284\n",
      "epoch 13: loss is 0.04621639717022578\n",
      "epoch 14: loss is 0.04618249054551125\n",
      "epoch 15: loss is 0.04616652866999308\n",
      "epoch 16: loss is 0.04614240460594495\n",
      "epoch 17: loss is 0.04611179553071658\n",
      "epoch 18: loss is 0.046091617476940155\n",
      "epoch 19: loss is 0.04608036512732506\n"
     ]
    }
   ],
   "source": [
    "# encoder = nn.Sequential(\n",
    "#     nn.Linear(in_features=784, out_features=2 * dim_z),\n",
    "# )\n",
    "# decoder = nn.Linear(in_features=dim_z, out_features=10)\n",
    "\n",
    "\n",
    "# net = VIB(encoder, decoder, dim_z, num_samples=samples_amount)\n",
    "\n",
    "#---------------------------------------------------------------\n",
    "\n",
    "class Net(nn.Module):\n",
    "    def __init__(self):\n",
    "        super(Net, self).__init__()\n",
    "        self.fc = nn.Linear(784, 70)\n",
    "        self.fc2=nn.Linear(70,10)\n",
    "\n",
    "    def forward(self, x):\n",
    "        x = self.fc(x)\n",
    "        x=F.relu(x)\n",
    "        x = self.fc2(x)\n",
    "        x = F.softmax(x, dim=1)\n",
    "        return x\n",
    "\n",
    "\n",
    "net = Net()\n",
    "# #---------------------------------------------------------------\n",
    "\n",
    "# Train the victim\n",
    "device = torch.device(\"cuda:0\") if torch.cuda.is_available() else torch.device(\"cpu\")\n",
    "\n",
    "net = net.to(device)\n",
    "\n",
    "\n",
    "\n",
    "opt = torch.optim.Adam(net.parameters(), lr=1e-3)\n",
    "scheduler = torch.optim.lr_scheduler.ExponentialLR(opt, gamma=0.97)\n",
    "criterion = nn.CrossEntropyLoss()\n",
    "\n",
    "\n",
    "for epoch in range(20):  # loop over the dataset multiple times\n",
    "    running_loss = 0\n",
    "    data_size = 0\n",
    "    for Data in train_loader:\n",
    "        # get the inputs; data is a list of [inputs, labels]\n",
    "        data, label = Data\n",
    "\n",
    "        # zero the parameter gradients\n",
    "        opt.zero_grad()\n",
    "\n",
    "        # forward + backward + optimize\n",
    "        outputs = net(data)\n",
    "        outputs=outputs\n",
    "        loss = criterion(outputs, label.to(torch.int64))\n",
    "        loss.backward()\n",
    "        opt.step()\n",
    "\n",
    "        running_loss += loss.item()\n",
    "        data_size += data.shape[0]\n",
    "\n",
    "    print(f\"epoch {epoch}: loss is {running_loss/data_size}\")\n",
    "\n",
    "\n",
    "\n"
   ]
  },
  {
   "cell_type": "code",
   "execution_count": 25,
   "metadata": {},
   "outputs": [
    {
     "name": "stdout",
     "output_type": "stream",
     "text": [
      "Test Accuracy is:  0.98215\n"
     ]
    }
   ],
   "source": [
    "in_preds = []\n",
    "in_label = []\n",
    "with torch.no_grad():\n",
    "    for data in train_loader:\n",
    "        inputs, labels = data\n",
    "        outputs = net(inputs)\n",
    "        in_preds.append(outputs)\n",
    "        in_label.append(labels)\n",
    "    in_preds = torch.cat(in_preds)\n",
    "    in_label = torch.cat(in_label)\n",
    "print(\n",
    "    \"Test Accuracy is: \",\n",
    "    accuracy_score(np.array(torch.argmax(in_preds, axis=1)), np.array(in_label)),\n",
    ")"
   ]
  },
  {
   "cell_type": "code",
   "execution_count": 28,
   "metadata": {},
   "outputs": [
    {
     "data": {
      "image/png": "[encoded data removed]",
      "text/plain": [
       "<Figure size 1000x1000 with 2 Axes>"
      ]
     },
     "metadata": {},
     "output_type": "display_data"
    }
   ],
   "source": [
    "\n",
    "from aijack.attack import MI_FACE\n",
    "import matplotlib.pyplot as plt\n",
    "\n",
    "input_shape = (1,28**2)\n",
    "target_label = 5\n",
    "lam = 0.1\n",
    "num_itr = 10000\n",
    "\n",
    "mi = MI_FACE(\n",
    "    net,\n",
    "    input_shape,\n",
    "    target_label=target_label,\n",
    "    num_itr=num_itr,\n",
    "    lam=lam,\n",
    "    log_interval=0,\n",
    ")\n",
    "x_result_1, log = mi.attack()\n",
    "\n",
    "x_result_1=x_result_1[0].cpu().detach().numpy().reshape(28,28)\n",
    "ref_img=inputs[0].reshape(28,28).detach().numpy()\n",
    "\n",
    "\n",
    "#compare the result with the original image\n",
    "fig = plt.figure(figsize=(10,10))\n",
    "ax1 = fig.add_subplot(1, 2, 1)\n",
    "ax1.imshow(ref_img, cmap=\"gray\")\n",
    "ax1.axis(\"off\")\n",
    "ax1.set_title(\"Original Image\")\n",
    "ax2 = fig.add_subplot(1, 2, 2)\n",
    "ax2.imshow(x_result_1, cmap=\"gray\")\n",
    "ax2.axis(\"off\")\n",
    "ax2.set_title(\"MI-FACE\")\n",
    "plt.suptitle(\"Result of MI-FACE\")\n",
    "plt.tight_layout()\n",
    "\n"
   ]
  }
 ],
 "metadata": {
  "kernelspec": {
   "display_name": "Python 3",
   "language": "python",
   "name": "python3"
  },
  "language_info": {
   "codemirror_mode": {
    "name": "ipython",
    "version": 3
   },
   "file_extension": ".py",
   "mimetype": "text/x-python",
   "name": "python",
   "nbconvert_exporter": "python",
   "pygments_lexer": "ipython3",
   "version": "3.10.4"
  },
  "orig_nbformat": 4
 },
 "nbformat": 4,
 "nbformat_minor": 2
}
